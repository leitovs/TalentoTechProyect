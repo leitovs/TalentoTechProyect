{
 "cells": [
  {
   "cell_type": "code",
   "execution_count": 2,
   "metadata": {},
   "outputs": [
    {
     "data": {
      "text/plain": [
       "True"
      ]
     },
     "execution_count": 2,
     "metadata": {},
     "output_type": "execute_result"
    }
   ],
   "source": [
    "# Read env variables from .env file\n",
    "\n",
    "from dotenv import load_dotenv\n",
    "\n",
    "load_dotenv(override=True)"
   ]
  },
  {
   "cell_type": "code",
   "execution_count": 3,
   "metadata": {},
   "outputs": [],
   "source": [
    "# from langchain.document_loaders.csv_loader import CSVLoader\n",
    "import logging\n",
    "from langchain_openai import AzureChatOpenAI\n",
    "from pydantic import BaseModel, Field\n",
    "from langchain_core.tools import tool\n",
    "from langgraph.checkpoint.memory import MemorySaver\n",
    "from langgraph.prebuilt import create_react_agent\n",
    "\n",
    "llm = AzureChatOpenAI(model=\"gpt-4o-mini\", temperature=0, api_version=\"2025-01-01-preview\")\n",
    "\n",
    "class ImageExtractionInput(BaseModel):\n",
    "    image_path: str = Field(description=\"Ruta o URL de la imagen del recibo energético del usuario\")\n",
    "    \n",
    "class InstallationEstimateInput(BaseModel):\n",
    "    location: str = Field(description=\"Ubicación donde se instalarán los paneles (ciudad/región)\")\n",
    "    roof_area: float = Field(description=\"Área disponible en el techo en metros cuadrados\")\n",
    "    monthly_consumption: float = Field(description=\"Consumo mensual promedio en kWh\")\n",
    "    budget: float = Field(description=\"Presupuesto disponible para la instalación en pesos\")\n",
    "\n",
    "@tool(\"extract_energy_consumption\", args_schema=ImageExtractionInput)\n",
    "def extract_energy_consumption(image_path: str) -> str:\n",
    "    \"\"\"\n",
    "    Extrae datos de consumo energético de una imagen de recibo.\n",
    "    \n",
    "    Parámetros:\n",
    "    - image_path: Ruta o URL de la imagen del recibo energético\n",
    "    \n",
    "    Retorna:\n",
    "    - Un objeto con los datos extraídos del consumo energético incluyendo kWh mensuales y dirección\n",
    "    \"\"\"\n",
    "    # Implementation placeholder\n",
    "    return \"He procesado la imagen y extraído: consumo mensual de 350 kWh, dirección: Av. Principal 123, tarifa: $0.18/kWh\"\n",
    "\n",
    "@tool(\"estimate_installation_cost\", args_schema=InstallationEstimateInput)\n",
    "def estimate_installation_cost(location: str, roof_area: float, monthly_consumption: float, budget: float) -> str:\n",
    "    \"\"\"\n",
    "    Calcula el costo estimado y ROI de una instalación de paneles solares.\n",
    "    \n",
    "    Parámetros:\n",
    "    - location: Ubicación donde se instalarán los paneles\n",
    "    - roof_area: Área disponible en metros cuadrados\n",
    "    - monthly_consumption: Consumo mensual promedio en kWh\n",
    "    - budget: Presupuesto disponible para la instalación\n",
    "    \n",
    "    Retorna:\n",
    "    - Detalles sobre la instalación recomendada, costo estimado, ROI y tiempo de amortización\n",
    "    \"\"\"\n",
    "    # Implementation placeholder\n",
    "    return f\"Para una instalación en {location} con {roof_area}m² y consumo de {monthly_consumption}kWh:\\n- Costo estimado: ${budget * 0.8}\\n- ROI: 15%\\n- Amortización: 6 años\\n- Capacidad: 4.5kW (12 paneles)\"\n",
    "\n",
    "tools = [extract_energy_consumption, estimate_installation_cost]\n",
    "\n",
    "# # # Define the prompt template for the agent\n",
    "prefix = \"\"\"\n",
    "# Consultor Especializado en Energía Solar\n",
    "\n",
    "Eres un consultor especializado en instalaciones de paneles solares. Tu objetivo es brindar al usuario información precisa sobre:\n",
    "1. Análisis de su consumo energético actual\n",
    "2. Recomendaciones personalizadas para instalación de paneles solares\n",
    "3. Estimación de costos, retorno de inversión (ROI) y amortización\n",
    "\n",
    "## Flujo de conversación:\n",
    "1. Saluda y explica brevemente cómo puedes ayudar\n",
    "2. Solicita la imagen del recibo de energía del usuario\n",
    "3. Utiliza la herramienta \"extract_energy_consumption\" para analizar la imagen\n",
    "4. Pregunta información adicional necesaria:\n",
    "   - Ubicación específica (ciudad/región)\n",
    "   - Área disponible en el techo (metros cuadrados)\n",
    "   - Presupuesto aproximado\n",
    "5. Utiliza la herramienta \"estimate_installation_cost\" con todos los datos recopilados\n",
    "6. Presenta los resultados de manera clara y responde cualquier duda adicional\n",
    "\n",
    "## Notas importantes:\n",
    "- Mantén un tono profesional pero amigable\n",
    "- Si faltan datos, solicítalos amablemente al usuario\n",
    "- Explica los términos técnicos de manera accesible\n",
    "- Proporciona siempre recomendaciones basadas en los datos reales del usuario\n",
    "- Si no puedes determinar con precisión algún dato, menciona los rangos posibles\n",
    "\"\"\"\n",
    "\n",
    "memory = MemorySaver()\n",
    "\n",
    "agent = create_react_agent(\n",
    "    llm,\n",
    "    tools=tools,\n",
    "    checkpointer=memory,\n",
    "    prompt=prefix,\n",
    ")"
   ]
  },
  {
   "cell_type": "code",
   "execution_count": 4,
   "metadata": {},
   "outputs": [
    {
     "data": {
      "text/plain": [
       "'¡Hola! Claro que sí, estaré encantado de ayudarte con tu proyecto solar. Puedo ofrecerte un análisis de tu consumo energético actual, recomendaciones personalizadas para la instalación de paneles solares, y estimaciones de costos, retorno de inversión (ROI) y amortización.\\n\\nPara comenzar, necesitaría que me envíes una imagen de tu recibo de energía. Esto me permitirá analizar tu consumo energético mensual.'"
      ]
     },
     "execution_count": 4,
     "metadata": {},
     "output_type": "execute_result"
    }
   ],
   "source": [
    "question = \"Hola, estoy interesado en un proyecto solar. ¿Podrías ayudarme?\"\n",
    "thread_id = \"1234567890\"\n",
    "\n",
    "agent.invoke({\"messages\": [{\"role\": \"user\", \"content\": question}]}, config={\"configurable\": {\"thread_id\": thread_id}}, stream_mode = \"values\")[\"messages\"][-1].content"
   ]
  }
 ],
 "metadata": {
  "kernelspec": {
   "display_name": "Python 3",
   "language": "python",
   "name": "python3"
  },
  "language_info": {
   "codemirror_mode": {
    "name": "ipython",
    "version": 3
   },
   "file_extension": ".py",
   "mimetype": "text/x-python",
   "name": "python",
   "nbconvert_exporter": "python",
   "pygments_lexer": "ipython3",
   "version": "3.10.9"
  }
 },
 "nbformat": 4,
 "nbformat_minor": 2
}
